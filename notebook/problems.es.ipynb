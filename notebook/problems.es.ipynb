{
 "cells": [
  {
   "cell_type": "markdown",
   "id": "a41f3622",
   "metadata": {},
   "source": [
    "# Ejercicios de probabilidad"
   ]
  },
  {
   "cell_type": "markdown",
   "id": "a6bdbd89",
   "metadata": {},
   "source": [
    "## Ejercicio 1 \n",
    "\n",
    "Dos dados se lanzan una vez y se observa el total obtenido. Usa una simulación para encontrar la probabilidad estimada de que la puntuación sea mayor a 7 o un número par. Una simulación es una repetición del mismo experimento multiples veces para observar su comportamiento:\n",
    "\n",
    "- Ejecuta el experimento 1000 veces (lanza 2 dados 1000 veces, y suma el número de ambos dados).\n",
    "- Lleva ua cuenta de los números y las veces que la suma fue mayor a 7 o un número par.\n",
    "- Divide el número del paso 2 entre el número de iteraciones(1000)."
   ]
  },
  {
   "cell_type": "code",
   "execution_count": 7,
   "id": "8939d892",
   "metadata": {},
   "outputs": [
    {
     "name": "stdout",
     "output_type": "stream",
     "text": [
      "Dado 1:  6 dado 2: 1 Suma Mayor a 7: 7 División paso 2:  0.685\n"
     ]
    }
   ],
   "source": [
    "# TODO\n",
    "import random\n",
    "cont_suma = 0\n",
    "mayor_par = 0\n",
    "\n",
    "for i in range (1000):\n",
    "    dado_1 = random.randint(1,6)\n",
    "    dado_2 = random.randint(1,6)\n",
    "    cont_suma = dado_1 + dado_2\n",
    "    if cont_suma > 7 or cont_suma % 2 == 0:\n",
    "        mayor_par += 1\n",
    "         \n",
    "Probabilidad = mayor_par/1000\n",
    "\n",
    "print(\"Dado 1: \", dado_1, \"dado 2:\", dado_2, \"Suma Mayor a 7:\", cont_suma, \"División paso 2: \", Probabilidad )\n",
    "\n",
    "\n"
   ]
  },
  {
   "cell_type": "markdown",
   "id": "55732bca",
   "metadata": {},
   "source": [
    "## Ejercicio 2\n",
    "\n",
    "Una caja contiene 10 bolas blancas, 20 bolas rojas y 30 bolas verdes. Si tomamos 5 bolas de la caja reemplazándolas (tomando una bola, anotando el color y luego regresandola a la caja). Queremos saber la probabilidad de:\n",
    "\n",
    "1. Tomar 3 blancas y 2 rojas.\n",
    "2. Toas todas del mismo color.\n",
    "\n",
    "Ejecuta el experimento 1000 veces y calcula las probabilidades que mencionadas."
   ]
  },
  {
   "cell_type": "code",
   "execution_count": null,
   "id": "23244d20",
   "metadata": {},
   "outputs": [
    {
     "name": "stdout",
     "output_type": "stream",
     "text": [
      "{0: 'White', 1: 'White', 2: 'White', 3: 'White', 4: 'White', 5: 'White', 6: 'White', 7: 'White', 8: 'White', 9: 'White', 10: 'Red', 11: 'Red', 12: 'Red', 13: 'Red', 14: 'Red', 15: 'Red', 16: 'Red', 17: 'Red', 18: 'Red', 19: 'Red', 20: 'Red', 21: 'Red', 22: 'Red', 23: 'Red', 24: 'Red', 25: 'Red', 26: 'Red', 27: 'Red', 28: 'Red', 29: 'Red', 30: 'Green', 31: 'Green', 32: 'Green', 33: 'Green', 34: 'Green', 35: 'Green', 36: 'Green', 37: 'Green', 38: 'Green', 39: 'Green', 40: 'Green', 41: 'Green', 42: 'Green', 43: 'Green', 44: 'Green', 45: 'Green', 46: 'Green', 47: 'Green', 48: 'Green', 49: 'Green', 50: 'Green', 51: 'Green', 52: 'Green', 53: 'Green', 54: 'Green', 55: 'Green', 56: 'Green', 57: 'Green', 58: 'Green', 59: 'Green'}\n",
      "Probabilidad estimada de 3 blancas y 2 rojas: 0.003\n",
      "Probabilidad estimada de todas del mismo color: 0.04\n"
     ]
    }
   ],
   "source": [
    "ball_box = {}\n",
    "# Crea la cajas con las bolas\n",
    "for i in range(60):\n",
    "    if i < 10:\n",
    "        ball_box[i] = \"White\"\n",
    "    elif (i > 9) and (i < 30):\n",
    "        ball_box[i] = \"Red\"\n",
    "    else:\n",
    "        ball_box[i] = \"Green\"\n",
    "\n",
    "print(ball_box)\n",
    "            \n",
    "# TODO\n",
    "import random\n",
    "contador_cond1 = 0  \n",
    "contador_cond2 = 0\n",
    "\n",
    "for i in range(1000):\n",
    "    bolas = []\n",
    "    for i in range(5):\n",
    "        indice = random.randint(0, 59)\n",
    "        color = ball_box[indice]\n",
    "        bolas.append(color)\n",
    "    \n",
    "    if bolas.count(\"White\") == 3 and bolas.count(\"Red\") == 2:\n",
    "        contador_cond1 += 1\n",
    "   \n",
    "    if len(set(bolas)) == 1:\n",
    "        contador_cond2 += 1\n",
    "probabilidad_1 = contador_cond1 / 1000\n",
    "probabilidad_2 = contador_cond2 / 1000\n",
    "print(\"Probabilidad estimada de 3 blancas y 2 rojas:\", probabilidad_1)\n",
    "print(\"Probabilidad estimada de todas del mismo color:\", probabilidad_2)\n",
    "git "
   ]
  }
 ],
 "metadata": {
  "kernelspec": {
   "display_name": "Python 3",
   "language": "python",
   "name": "python3"
  },
  "language_info": {
   "codemirror_mode": {
    "name": "ipython",
    "version": 3
   },
   "file_extension": ".py",
   "mimetype": "text/x-python",
   "name": "python",
   "nbconvert_exporter": "python",
   "pygments_lexer": "ipython3",
   "version": "3.11.4"
  }
 },
 "nbformat": 4,
 "nbformat_minor": 5
}
